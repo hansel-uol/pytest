{
 "cells": [
  {
   "cell_type": "code",
   "execution_count": 5,
   "id": "1d8249e6-e509-443c-abcb-aa8dd6aa9190",
   "metadata": {},
   "outputs": [
    {
     "name": "stdout",
     "output_type": "stream",
     "text": [
      "Optimal Move: {'rank': 'J', 'suit': 'Hearts'}\n"
     ]
    }
   ],
   "source": [
    "import copy\n",
    "\n",
    "# Represent a card deck\n",
    "suits = ['Hearts', 'Diamonds', 'Clubs', 'Spades']\n",
    "ranks = ['2', '3', '4', '5', '6', '7', '8', '9', '10', 'J', 'Q', 'K', 'A']\n",
    "deck = [{'rank': rank, 'suit': suit} for suit in suits for rank in ranks]\n",
    "\n",
    "# Define Shithead game rules\n",
    "def is_valid_move(card, pile):\n",
    "    if not pile:\n",
    "        return True\n",
    "    last_card_rank = pile[-1]['rank']\n",
    "    return ranks.index(card['rank']) > ranks.index(last_card_rank)\n",
    "\n",
    "def is_special_card(card):\n",
    "    return card['rank'] in ['8', '10']\n",
    "\n",
    "def is_finished(player_hand):\n",
    "    return not player_hand\n",
    "\n",
    "# Evaluate the score for a given hand\n",
    "def evaluate_hand(hand):\n",
    "    return sum(ranks.index(card['rank']) + 1 for card in hand)\n",
    "\n",
    "# Perform a depth-first search to find the optimal moves\n",
    "def dfs(player_hand, pile, depth, maximizing_player):\n",
    "    if depth == 0 or is_finished(player_hand):\n",
    "        return evaluate_hand(player_hand)\n",
    "\n",
    "    if maximizing_player:\n",
    "        max_eval = float('-inf')\n",
    "        for card in player_hand:\n",
    "            if is_valid_move(card, pile):\n",
    "                new_player_hand = [c for c in player_hand if c != card]\n",
    "                new_pile = pile + [card]\n",
    "                eval_score = dfs(new_player_hand, new_pile, depth - 1, False)\n",
    "                max_eval = max(max_eval, eval_score)\n",
    "        return max_eval\n",
    "    else:\n",
    "        min_eval = float('inf')\n",
    "        for card in player_hand:\n",
    "            if is_valid_move(card, pile):\n",
    "                new_player_hand = [c for c in player_hand if c != card]\n",
    "                new_pile = pile + [card]\n",
    "                eval_score = dfs(new_player_hand, new_pile, depth - 1, True)\n",
    "                min_eval = min(min_eval, eval_score)\n",
    "        return min_eval\n",
    "\n",
    "# Find the optimal move using the depth-first search algorithm\n",
    "def find_optimal_move(player_hand, pile, depth):\n",
    "    optimal_score = float('-inf')\n",
    "    optimal_move = None\n",
    "\n",
    "    for card in player_hand:\n",
    "        if is_valid_move(card, pile):\n",
    "            new_player_hand = [c for c in player_hand if c != card]\n",
    "            new_pile = pile + [card]\n",
    "            eval_score = dfs(new_player_hand, new_pile, depth - 1, False)\n",
    "\n",
    "            if eval_score > optimal_score:\n",
    "                optimal_score = eval_score\n",
    "                optimal_move = card\n",
    "\n",
    "    return optimal_move\n",
    "\n",
    "# Example usage\n",
    "player_hand = deck[:10]  # Initial hand for the player\n",
    "pile = []  # Pile of played cards\n",
    "depth = 3  # Depth of the search algorithm\n",
    "\n",
    "optimal_move = find_optimal_move(player_hand, pile, depth)\n",
    "print(\"Optimal Move:\", optimal_move)\n",
    "\n"
   ]
  },
  {
   "cell_type": "code",
   "execution_count": null,
   "id": "9a1e3cbd-c650-411d-92df-e955a0316485",
   "metadata": {},
   "outputs": [],
   "source": []
  }
 ],
 "metadata": {
  "kernelspec": {
   "display_name": "Python 3 (ipykernel)",
   "language": "python",
   "name": "python3"
  },
  "language_info": {
   "codemirror_mode": {
    "name": "ipython",
    "version": 3
   },
   "file_extension": ".py",
   "mimetype": "text/x-python",
   "name": "python",
   "nbconvert_exporter": "python",
   "pygments_lexer": "ipython3",
   "version": "3.11.2"
  }
 },
 "nbformat": 4,
 "nbformat_minor": 5
}
